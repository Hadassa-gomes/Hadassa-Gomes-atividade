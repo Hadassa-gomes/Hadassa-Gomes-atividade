{
  "nbformat": 4,
  "nbformat_minor": 0,
  "metadata": {
    "colab": {
      "provenance": [],
      "authorship_tag": "ABX9TyPAIZKfuBT+RR5KZETbDNgY",
      "include_colab_link": true
    },
    "kernelspec": {
      "name": "python3",
      "display_name": "Python 3"
    },
    "language_info": {
      "name": "python"
    }
  },
  "cells": [
    {
      "cell_type": "markdown",
      "metadata": {
        "id": "view-in-github",
        "colab_type": "text"
      },
      "source": [
        "<a href=\"https://colab.research.google.com/github/Hadassa-gomes/Hadassa-Gomes-atividade/blob/main/atividade_calculadora.ipynb\" target=\"_parent\"><img src=\"https://colab.research.google.com/assets/colab-badge.svg\" alt=\"Open In Colab\"/></a>"
      ]
    },
    {
      "cell_type": "markdown",
      "source": [
        "profa, tive um pouco de dificuldade de fazer algo mais elaborado, por isso minha calculadora tem apenas esses elementos."
      ],
      "metadata": {
        "id": "Ta8N2GfuXXw5"
      }
    },
    {
      "cell_type": "code",
      "execution_count": null,
      "metadata": {
        "id": "YzYBcdXUlyvT"
      },
      "outputs": [],
      "source": [
        "\n",
        "def soma(n1, n2):\n",
        "  return n1+n2\n",
        "\n",
        "def subtrai(n1, n2):\n",
        "  return n1-n2\n",
        "\n",
        "def multiplica(n1, n2):\n",
        "  return n1*n2\n",
        "\n",
        "def divide(n1, n2):\n",
        "  return n1/n2\n",
        "\n",
        "def porcentagem(n1, n2):\n",
        "   return (n1 * n2) / 100\n",
        "\n",
        "def potenciacao(n1, n2):\n",
        "  return (n1 ** n2)\n",
        "\n",
        "def fracao(n1,n2):\n",
        "    return (n1/n2)"
      ]
    },
    {
      "cell_type": "code",
      "source": [
        "while True:\n",
        "  print('+===============+')\n",
        "  print('|MENU DE OPERAÇÕES')\n",
        "  print('| 1- somar        ')\n",
        "  print('| 2- subtrair      ')\n",
        "  print('| 3- multiplicar   ')\n",
        "  print('| 4- dividir       ')\n",
        "  print('| 5- porcentagem   ')\n",
        "  print('| 6- potenciacao  ')\n",
        "  print('| 0- sair         ')\n",
        "  print('+===============+')\n",
        "\n",
        "  op = int(input('primeiro número:'))\n",
        "  if op==0:\n",
        "    break\n",
        "  n1 = int(input('primeiro número:'))\n",
        "  n2 = int(input('segundo número:'))\n",
        "  if op==1:\n",
        "    print('o resultado da soma é', soma(n1, n2))\n",
        "  elif op==2:\n",
        "      print('o resultado da subtração é', subtrai(n1, n2))\n",
        "  elif op==3:\n",
        "      print('o resultado da multiplicação é', multiplica(n1, n2))\n",
        "  elif op==4:\n",
        "      print('o resultado da divisão é', divide(n1, n2))\n",
        "  elif op==5:\n",
        "    print('o resultado da porcentagem é', porcentagem(n1, n2))\n",
        "  elif op==6:\n",
        "    print('o resultado da potenciação é', potenciacao(n1,n2))\n",
        "  else:\n",
        "      print('por favor digite uma das opções.')\n"
      ],
      "metadata": {
        "colab": {
          "base_uri": "https://localhost:8080/"
        },
        "id": "x-oiv-Ccl43t",
        "outputId": "1f673ad1-bbd2-4f5c-a3fc-2e43e114ccd9"
      },
      "execution_count": null,
      "outputs": [
        {
          "name": "stdout",
          "output_type": "stream",
          "text": [
            "+===============+\n",
            "|MENU DE OPERAÇÕES\n",
            "| 1- somar        \n",
            "| 2- subtrair      \n",
            "| 3- multiplicar   \n",
            "| 4- dividir       \n",
            "| 5- porcentagem   \n",
            "| 6- potenciacao  \n",
            "| 0- sair         \n",
            "+===============+\n",
            "primeiro número:6\n",
            "primeiro número:2\n",
            "segundo número:3\n",
            "o resultado da potenciação é 8\n",
            "+===============+\n",
            "|MENU DE OPERAÇÕES\n",
            "| 1- somar        \n",
            "| 2- subtrair      \n",
            "| 3- multiplicar   \n",
            "| 4- dividir       \n",
            "| 5- porcentagem   \n",
            "| 6- potenciacao  \n",
            "| 0- sair         \n",
            "+===============+\n",
            "primeiro número:0\n"
          ]
        }
      ]
    }
  ]
}