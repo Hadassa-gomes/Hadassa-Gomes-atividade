{
  "nbformat": 4,
  "nbformat_minor": 0,
  "metadata": {
    "colab": {
      "provenance": [],
      "authorship_tag": "ABX9TyObBy0A+rAhtM8Ui2f9Bu4/",
      "include_colab_link": true
    },
    "kernelspec": {
      "name": "python3",
      "display_name": "Python 3"
    },
    "language_info": {
      "name": "python"
    }
  },
  "cells": [
    {
      "cell_type": "markdown",
      "metadata": {
        "id": "view-in-github",
        "colab_type": "text"
      },
      "source": [
        "<a href=\"https://colab.research.google.com/github/Hadassa-gomes/Hadassa-Gomes-atividade/blob/main/Untitled8.ipynb\" target=\"_parent\"><img src=\"https://colab.research.google.com/assets/colab-badge.svg\" alt=\"Open In Colab\"/></a>"
      ]
    },
    {
      "cell_type": "code",
      "execution_count": null,
      "metadata": {
        "colab": {
          "base_uri": "https://localhost:8080/"
        },
        "id": "oD3xa8I2EMR8",
        "outputId": "49d924c3-258d-4d74-d444-a3cd7350bc86"
      },
      "outputs": [
        {
          "output_type": "stream",
          "name": "stdout",
          "text": [
            "5 foram passear, além das montanhas para brincar a mamãe gritou quá, quá, quá, quá mas só  4 patinhos voltaram de lá\n",
            "4 foram passear, além das montanhas para brincar a mamãe gritou quá, quá, quá, quá mas só  3 patinhos voltaram de lá\n",
            "3 foram passear, além das montanhas para brincar a mamãe gritou quá, quá, quá, quá mas só  2 patinhos voltaram de lá\n",
            "2 foram passear, além das montanhas para brincar a mamãe gritou quá, quá, quá, quá mas só  1 patinhos voltaram de lá\n",
            "1 foram passear, além das montanhas para brincar a mamãe gritou quá, quá, quá, quá mas só  0 patinhos voltaram de lá\n"
          ]
        }
      ],
      "source": [
        "#atividade dos cinco patinhos\n",
        "for patinhos in [5, 4, 3, 2, 1]:\n",
        "  print(patinhos, 'foram passear, além das montanhas para brincar a mamãe gritou quá, quá, quá, quá mas só ',patinhos-1,'patinhos voltaram de lá')\n",
        "\n"
      ]
    },
    {
      "cell_type": "code",
      "source": [
        "#atividade dos elefantes\n",
        "for elefantes in [1,2,3,4,5,6,7,8,9,10]:\n",
        "  if (elefantes%2 != 0):\n",
        "    print(elefantes, 'elefantes incomodam muita gente')\n",
        "  else:\n",
        "    print(elefantes, 'elefantes ','incomodam '*elefantes, 'muito mais')\n",
        "\n",
        "\n"
      ],
      "metadata": {
        "colab": {
          "base_uri": "https://localhost:8080/"
        },
        "id": "2D9HTrEXJ2NU",
        "outputId": "a4c0b187-5e12-40ba-8d89-f8d40a51cc98"
      },
      "execution_count": null,
      "outputs": [
        {
          "output_type": "stream",
          "name": "stdout",
          "text": [
            "1 elefantes incomodam muita gente\n",
            "2 elefantes  incomodam incomodam  muito mais\n",
            "3 elefantes incomodam muita gente\n",
            "4 elefantes  incomodam incomodam incomodam incomodam  muito mais\n",
            "5 elefantes incomodam muita gente\n",
            "6 elefantes  incomodam incomodam incomodam incomodam incomodam incomodam  muito mais\n",
            "7 elefantes incomodam muita gente\n",
            "8 elefantes  incomodam incomodam incomodam incomodam incomodam incomodam incomodam incomodam  muito mais\n",
            "9 elefantes incomodam muita gente\n",
            "10 elefantes  incomodam incomodam incomodam incomodam incomodam incomodam incomodam incomodam incomodam incomodam  muito mais\n"
          ]
        }
      ]
    },
    {
      "cell_type": "code",
      "source": [
        "for elefantes in [10,9,8,7,6,5,4,3,2,1]:\n",
        "  if (elefantes%2 == 0):\n",
        "    print(elefantes, 'elefantes incomodam muita gente')\n",
        "  else:\n",
        "    print(elefantes, 'elefantes ','incomodam '*elefantes, 'muito mais')\n"
      ],
      "metadata": {
        "colab": {
          "base_uri": "https://localhost:8080/"
        },
        "id": "BAJNCMjIR52p",
        "outputId": "c06a7823-5cc4-41fe-ef37-1d2329d9af44"
      },
      "execution_count": null,
      "outputs": [
        {
          "output_type": "stream",
          "name": "stdout",
          "text": [
            "10 elefantes incomodam muita gente\n",
            "9 elefantes  incomodam incomodam incomodam incomodam incomodam incomodam incomodam incomodam incomodam  muito mais\n",
            "8 elefantes incomodam muita gente\n",
            "7 elefantes  incomodam incomodam incomodam incomodam incomodam incomodam incomodam  muito mais\n",
            "6 elefantes incomodam muita gente\n",
            "5 elefantes  incomodam incomodam incomodam incomodam incomodam  muito mais\n",
            "4 elefantes incomodam muita gente\n",
            "3 elefantes  incomodam incomodam incomodam  muito mais\n",
            "2 elefantes incomodam muita gente\n",
            "1 elefantes  incomodam  muito mais\n"
          ]
        }
      ]
    },
    {
      "cell_type": "code",
      "source": [
        "#atividade da Mariana :(\n",
        "for elemento in range(len('')):\n",
        "  print('estamos no elemento', elemento)"
      ],
      "metadata": {
        "colab": {
          "base_uri": "https://localhost:8080/"
        },
        "id": "7mehXniPS_ko",
        "outputId": "d8eb6af7-1cac-49e3-db29-3006cc2d0c9f"
      },
      "execution_count": null,
      "outputs": [
        {
          "output_type": "stream",
          "name": "stdout",
          "text": [
            "0 Mariana conta Mariana conta é um, é um\n"
          ]
        }
      ]
    }
  ]
}