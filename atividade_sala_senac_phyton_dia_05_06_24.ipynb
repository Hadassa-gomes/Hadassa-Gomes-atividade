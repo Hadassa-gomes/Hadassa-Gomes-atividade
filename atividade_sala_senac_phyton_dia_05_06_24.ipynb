{
  "nbformat": 4,
  "nbformat_minor": 0,
  "metadata": {
    "colab": {
      "provenance": [],
      "authorship_tag": "ABX9TyMtcJsge6aksF1kb8rbfTIA",
      "include_colab_link": true
    },
    "kernelspec": {
      "name": "python3",
      "display_name": "Python 3"
    },
    "language_info": {
      "name": "python"
    }
  },
  "cells": [
    {
      "cell_type": "markdown",
      "metadata": {
        "id": "view-in-github",
        "colab_type": "text"
      },
      "source": [
        "<a href=\"https://colab.research.google.com/github/Hadassa-gomes/Hadassa-Gomes-atividade/blob/main/atividade_sala_senac_phyton_dia_05_06_24.ipynb\" target=\"_parent\"><img src=\"https://colab.research.google.com/assets/colab-badge.svg\" alt=\"Open In Colab\"/></a>"
      ]
    },
    {
      "cell_type": "code",
      "execution_count": null,
      "metadata": {
        "colab": {
          "base_uri": "https://localhost:8080/"
        },
        "id": "UMnGze4SMSRh",
        "outputId": "1185585e-9ef3-4e80-9651-300e5045605e"
      },
      "outputs": [
        {
          "output_type": "stream",
          "name": "stdout",
          "text": [
            "numero 0\n",
            "numero 1\n",
            "numero 2\n",
            "numero 3\n",
            "numero 4\n"
          ]
        }
      ],
      "source": [
        "#def serve para chamar uma função/pode colocar o 'i' ou 'num'/ def significa que estou começando uma função\n",
        "def funcaoLeitura():\n",
        "  for i in range(5):\n",
        "    print('numero', i)\n",
        "funcaoLeitura()"
      ]
    },
    {
      "cell_type": "code",
      "source": [
        "#função para somar números (deu erro pq os valores não foram atribuidos)\n",
        "def addNum(n1, n2):\n",
        "  print('o primeiro número é: ', n1)\n",
        "  print('o segundo número é:', n2)\n",
        "  print('a soma soma número é:' n1+n2)\n",
        "addNum(2, 3)\n",
        "addNum(4, 3)\n",
        "addNum()"
      ],
      "metadata": {
        "colab": {
          "base_uri": "https://localhost:8080/",
          "height": 106
        },
        "id": "ZvayDnH1SH5w",
        "outputId": "d4a112a0-022c-447b-dfc2-7bbd093a1204"
      },
      "execution_count": null,
      "outputs": [
        {
          "output_type": "error",
          "ename": "SyntaxError",
          "evalue": "invalid syntax. Perhaps you forgot a comma? (<ipython-input-17-294c0b1d2e5f>, line 5)",
          "traceback": [
            "\u001b[0;36m  File \u001b[0;32m\"<ipython-input-17-294c0b1d2e5f>\"\u001b[0;36m, line \u001b[0;32m5\u001b[0m\n\u001b[0;31m    print('a soma soma número é:' n1+n2)\u001b[0m\n\u001b[0m          ^\u001b[0m\n\u001b[0;31mSyntaxError\u001b[0m\u001b[0;31m:\u001b[0m invalid syntax. Perhaps you forgot a comma?\n"
          ]
        }
      ]
    },
    {
      "cell_type": "code",
      "source": [
        "varGlobal = 10 #essa é uma variável global\n",
        "def multiplicacao(num1, num2): #essa é uma variável local (é local pq está acontecendo aqui, depende da função para acontecer)\n",
        "  varGlobal = (num1 * num2):\n",
        "  print('variaável da função multiplica:', varGlobal)\n",
        "multiplicacao(5, 4)\n",
        "print(varGlobal)\n"
      ],
      "metadata": {
        "colab": {
          "base_uri": "https://localhost:8080/",
          "height": 106
        },
        "id": "94DSEk9ZT4Z_",
        "outputId": "edbef067-e9af-41d2-b57e-eb593aaab244"
      },
      "execution_count": null,
      "outputs": [
        {
          "output_type": "error",
          "ename": "SyntaxError",
          "evalue": "invalid syntax (<ipython-input-6-f73fbe8471f7>, line 3)",
          "traceback": [
            "\u001b[0;36m  File \u001b[0;32m\"<ipython-input-6-f73fbe8471f7>\"\u001b[0;36m, line \u001b[0;32m3\u001b[0m\n\u001b[0;31m    varGlobal = (num1 * num2):\u001b[0m\n\u001b[0m                             ^\u001b[0m\n\u001b[0;31mSyntaxError\u001b[0m\u001b[0;31m:\u001b[0m invalid syntax\n"
          ]
        }
      ]
    },
    {
      "cell_type": "code",
      "source": [
        "varGlobal = 10 #essa é uma variável global\n",
        "def multiplica(num1, num2):\n",
        "  varLocal = num1 * num2\n",
        "  print('variável da função multiplica:', varLocal)#variavel local só acontece dentro da funçaõ, o print precisa estar dentro dessa identação, ou seja, dentro da funçao\n",
        "  print(varLocal)\n",
        "multiplica(5, 4)\n"
      ],
      "metadata": {
        "colab": {
          "base_uri": "https://localhost:8080/"
        },
        "id": "ZmsbQt3cW_f9",
        "outputId": "2bf2fa81-3c4f-4415-f9d3-ee07e55e7146"
      },
      "execution_count": null,
      "outputs": [
        {
          "output_type": "stream",
          "name": "stdout",
          "text": [
            "variável da função multiplica: 20\n",
            "20\n"
          ]
        }
      ]
    },
    {
      "cell_type": "markdown",
      "source": [
        "#diferença entre metodo e função/ metodo(tem \":\") é usado para algo que já existe, aplicado a um objeto/ a função/ def usado para usar uma funçaõ/ split separa coisas"
      ],
      "metadata": {
        "id": "2SaEjOmLhuDc"
      }
    },
    {
      "cell_type": "code",
      "source": [
        "def separarTexto(texto):\n",
        "  return texto.split()\n",
        "separarTexto('cibele Maria')\n"
      ],
      "metadata": {
        "colab": {
          "base_uri": "https://localhost:8080/"
        },
        "id": "Cc4dyyo2gF-A",
        "outputId": "52ef065e-a4d3-4c81-a245-8845b7916567"
      },
      "execution_count": 45,
      "outputs": [
        {
          "output_type": "execute_result",
          "data": {
            "text/plain": [
              "['cibele', 'Maria']"
            ]
          },
          "metadata": {},
          "execution_count": 45
        }
      ]
    },
    {
      "cell_type": "code",
      "source": [
        "#Quando não sabemos a quantidade de parametros basta usar o *\n",
        "def variosParametros(*parametros):\n",
        "  for n, item in enumerate(parametros):\n",
        "    print('Parâmetro', n, item)\n",
        "  return\n"
      ],
      "metadata": {
        "id": "1JjkjOe3iD-2"
      },
      "execution_count": 42,
      "outputs": []
    },
    {
      "cell_type": "code",
      "source": [
        "variosParametros('cibele', 'suely', 'giggio')"
      ],
      "metadata": {
        "colab": {
          "base_uri": "https://localhost:8080/"
        },
        "id": "3kGRhPGQjVTP",
        "outputId": "6e4ae438-3c1b-4cb3-dd99-9521f4a73e75"
      },
      "execution_count": 43,
      "outputs": [
        {
          "output_type": "stream",
          "name": "stdout",
          "text": [
            "Parâmetro 0 cibele\n",
            "Parâmetro 1 suely\n",
            "Parâmetro 2 giggio\n"
          ]
        }
      ]
    },
    {
      "cell_type": "markdown",
      "source": [
        "calculadora\n"
      ],
      "metadata": {
        "id": "gClB4KXakQes"
      }
    },
    {
      "cell_type": "code",
      "source": [
        "def soma(n1, n2):\n",
        "  return n1+n2\n",
        "\n",
        "def subtrai(n1, n2):\n",
        "  return n1-n2\n",
        "\n",
        "def multiplica(n1, n2):\n",
        "  return n1*n2\n",
        "\n",
        "def divide(n1, n2):\n",
        "  return n1/n2"
      ],
      "metadata": {
        "id": "46gMO0lzkTqb"
      },
      "execution_count": 46,
      "outputs": []
    },
    {
      "cell_type": "code",
      "source": [
        "while True:\n",
        "  print('+===============+')\n",
        "  print('|MENU DE OPERAÇÕES')\n",
        "  print('| 1- somar        ')\n",
        "  print('| 2- subtrair      ')\n",
        "  print('| 3- multiplicar   ')\n",
        "  print('| 4- dividir      ')\n",
        "  print('| 0- sair         ')\n",
        "  print('+===============+')\n",
        "\n",
        "  op = int(input('primeiro número:'))\n",
        "  if op==0:\n",
        "    break\n",
        "  n1 = int(input('primeiro número:'))\n",
        "  n2 = int(input('segundo número:'))\n",
        "  if op==1:\n",
        "    print('o resultado da soma é', soma(n1, n2))\n",
        "  elif op==2:\n",
        "      print('o resultado da subtração é', subtrai(n1, n2))\n",
        "  elif op==3:\n",
        "      print('o resultado da multiplicação é', multiplica(n1, n2))\n",
        "  elif op==4:\n",
        "      print('o resultado da divisão é', divide(n1, n2))\n",
        "  else:\n",
        "      print('por favor digite uma das opções.')\n"
      ],
      "metadata": {
        "colab": {
          "base_uri": "https://localhost:8080/"
        },
        "id": "GTMQWXABlTNH",
        "outputId": "be6923b9-f660-4788-f093-9e5c3bf73307"
      },
      "execution_count": 57,
      "outputs": [
        {
          "name": "stdout",
          "output_type": "stream",
          "text": [
            "+===============+\n",
            "|MENU DE OPERAÇÕES\n",
            "| 1- somar        \n",
            "| 2- subtrair      \n",
            "| 3- multiplicar   \n",
            "| 4- dividir      \n",
            "| 0- sair         \n",
            "+===============+\n",
            "primeiro número:1\n",
            "primeiro número:3\n",
            "segundo número:3\n",
            "o resultado da soma é 6\n",
            "+===============+\n",
            "|MENU DE OPERAÇÕES\n",
            "| 1- somar        \n",
            "| 2- subtrair      \n",
            "| 3- multiplicar   \n",
            "| 4- dividir      \n",
            "| 0- sair         \n",
            "+===============+\n",
            "primeiro número:2\n",
            "primeiro número:5\n",
            "segundo número:2\n",
            "o resultado da subtração é 3\n",
            "+===============+\n",
            "|MENU DE OPERAÇÕES\n",
            "| 1- somar        \n",
            "| 2- subtrair      \n",
            "| 3- multiplicar   \n",
            "| 4- dividir      \n",
            "| 0- sair         \n",
            "+===============+\n",
            "primeiro número:3\n",
            "primeiro número:5\n",
            "segundo número:5\n",
            "o resultado da multiplicação é 25\n",
            "+===============+\n",
            "|MENU DE OPERAÇÕES\n",
            "| 1- somar        \n",
            "| 2- subtrair      \n",
            "| 3- multiplicar   \n",
            "| 4- dividir      \n",
            "| 0- sair         \n",
            "+===============+\n",
            "primeiro número:4\n",
            "primeiro número:8\n",
            "segundo número:2\n",
            "o resultado da divisão é 4.0\n",
            "+===============+\n",
            "|MENU DE OPERAÇÕES\n",
            "| 1- somar        \n",
            "| 2- subtrair      \n",
            "| 3- multiplicar   \n",
            "| 4- dividir      \n",
            "| 0- sair         \n",
            "+===============+\n",
            "primeiro número:0\n"
          ]
        }
      ]
    }
  ]
}