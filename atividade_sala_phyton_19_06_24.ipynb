{
  "nbformat": 4,
  "nbformat_minor": 0,
  "metadata": {
    "colab": {
      "provenance": [],
      "authorship_tag": "ABX9TyNuynK33Bn9wBnojKvZoEvW",
      "include_colab_link": true
    },
    "kernelspec": {
      "name": "python3",
      "display_name": "Python 3"
    },
    "language_info": {
      "name": "python"
    }
  },
  "cells": [
    {
      "cell_type": "markdown",
      "metadata": {
        "id": "view-in-github",
        "colab_type": "text"
      },
      "source": [
        "<a href=\"https://colab.research.google.com/github/Hadassa-gomes/Hadassa-Gomes-atividade/blob/main/atividade_sala_phyton_19_06_24.ipynb\" target=\"_parent\"><img src=\"https://colab.research.google.com/assets/colab-badge.svg\" alt=\"Open In Colab\"/></a>"
      ]
    },
    {
      "cell_type": "code",
      "execution_count": 16,
      "metadata": {
        "id": "TU8W5VdtR0Ti"
      },
      "outputs": [],
      "source": [
        "#construtor da classe\n",
        "class Animal():\n",
        "  def __init__(self, name, weight, color):\n",
        "#atributos\n",
        "    self.nome = name\n",
        "    self.peso = weight\n",
        "    self.corDoPelo = color\n",
        "  def imprimirDados(self):\n",
        "    return('Nome: %s \\nPeso: %s' %(self.nome, self.peso))\n",
        "\n",
        "  def latir(self, barulho):\n",
        "    print(barulho)\n"
      ]
    },
    {
      "cell_type": "markdown",
      "source": [
        "atributo é oq contém valor para o objeto\n",
        "a classe padroniza um objeto comum"
      ],
      "metadata": {
        "id": "-fKCotHsVVtJ"
      }
    },
    {
      "cell_type": "code",
      "source": [
        "#instanciando um objeto cachorro\n",
        "caozinho = Animal('Marlene', 7.9, 'Caramelo')\n",
        "gato = Animal('cibele', 4.5, 'Cinza')\n",
        "\n",
        "#chamando o método do objeto criado\n",
        "print(caozinho.imprimirDados())\n",
        "caozinho.latir('Au, Au!')\n",
        "\n",
        "print(gato.imprimirDados())\n",
        "gato.latir('Miau!')"
      ],
      "metadata": {
        "colab": {
          "base_uri": "https://localhost:8080/"
        },
        "id": "XZaoMT04V2mx",
        "outputId": "5753ddab-258c-42c4-b93e-24527d8390a5"
      },
      "execution_count": 17,
      "outputs": [
        {
          "output_type": "stream",
          "name": "stdout",
          "text": [
            "Nome: Marlene \n",
            "Peso: 7.9\n",
            "Au, Au!\n",
            "Nome: cibele \n",
            "Peso: 4.5\n",
            "Miau!\n"
          ]
        }
      ]
    },
    {
      "cell_type": "code",
      "source": [
        "#criando uma classe chamada livro\n",
        "class Livro():\n",
        "#Esse método vai inicializar cada objeto criado a partir dessa classe\n",
        "#o nome deste método é __init__\n",
        "#self é referencia a cada atributo de um objeto criado a partir desta\n",
        "  def __init__(self):\n",
        "#atributos de cada objeto criado a partir desta classe.\n",
        "#o self indica que estes são atribuidos dos objetos\n",
        "    self.titulo = 'O Monge e o Executivo'\n",
        "    self.isbn = 9988888\n",
        "    print('Construtor chamado para criar um objeto desta classe')\n",
        "  #Métodos são funções que recebem como parametro atributos do objeto criado\n",
        "  def imprime(self):\n",
        "    print('Foi criado o livro %s e ISBN %d' %(self.titulo, self.isbn))\n"
      ],
      "metadata": {
        "id": "s6-LdgFfbsvZ"
      },
      "execution_count": 19,
      "outputs": []
    },
    {
      "cell_type": "code",
      "source": [
        "#criando uma instância da classe livro\n",
        "Livro1 = Livro()"
      ],
      "metadata": {
        "colab": {
          "base_uri": "https://localhost:8080/"
        },
        "id": "DOngGx62eyfb",
        "outputId": "d0d0ba5b-84fc-476c-8e0d-f1d828e5ca70"
      },
      "execution_count": 20,
      "outputs": [
        {
          "output_type": "stream",
          "name": "stdout",
          "text": [
            "Construtor chamado para criar um objeto desta classe\n"
          ]
        }
      ]
    },
    {
      "cell_type": "code",
      "source": [
        "#criando a classe livro com parametros no método construtor\n",
        "class Livro():\n",
        "  def __init__(self, titulo, isbn):\n",
        "    self.titulo = titulo\n",
        "    self.isbn = isbn\n",
        "    print('Construtor chamado para criar um objeto desta classe')\n",
        "  def imprime(self, titulo, isbn):\n",
        "    print('Este é o livro %s e ISBN %d' %(titulo, isbn))"
      ],
      "metadata": {
        "id": "rMjuTjrpfVJI"
      },
      "execution_count": 21,
      "outputs": []
    },
    {
      "cell_type": "code",
      "source": [
        "#criando o objeto livro2 que é uma instância da classe livro\n",
        "Livro2 = Livro('A menina que roubava livros', 77886611)"
      ],
      "metadata": {
        "colab": {
          "base_uri": "https://localhost:8080/"
        },
        "id": "hUJAVbsnhMB3",
        "outputId": "53acf174-8971-4fa0-b34e-362852c16c4e"
      },
      "execution_count": 22,
      "outputs": [
        {
          "output_type": "stream",
          "name": "stdout",
          "text": [
            "Construtor chamado para criar um objeto desta classe\n"
          ]
        }
      ]
    }
  ]
}