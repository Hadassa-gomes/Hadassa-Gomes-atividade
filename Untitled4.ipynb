{
  "nbformat": 4,
  "nbformat_minor": 0,
  "metadata": {
    "colab": {
      "provenance": [],
      "authorship_tag": "ABX9TyPzN0tQeVt3NGFerLZJMca/",
      "include_colab_link": true
    },
    "kernelspec": {
      "name": "python3",
      "display_name": "Python 3"
    },
    "language_info": {
      "name": "python"
    }
  },
  "cells": [
    {
      "cell_type": "markdown",
      "metadata": {
        "id": "view-in-github",
        "colab_type": "text"
      },
      "source": [
        "<a href=\"https://colab.research.google.com/github/Hadassa-gomes/Hadassa-Gomes-atividade/blob/main/Untitled4.ipynb\" target=\"_parent\"><img src=\"https://colab.research.google.com/assets/colab-badge.svg\" alt=\"Open In Colab\"/></a>"
      ]
    },
    {
      "cell_type": "code",
      "execution_count": 8,
      "metadata": {
        "colab": {
          "base_uri": "https://localhost:8080/"
        },
        "id": "z5vxgAXiO1if",
        "outputId": "a7b1e310-e0ab-44d9-d7ba-d33afce7c927"
      },
      "outputs": [
        {
          "name": "stdout",
          "output_type": "stream",
          "text": [
            "Digite o nome do produto:celular\n",
            "Digite o valor do produto:10\n"
          ]
        }
      ],
      "source": [
        "#for produto in renge(0,4):\n",
        "p = str(input('Digite o nome do produto:'))\n",
        "v = float(input('Digite o valor do produto:'))"
      ]
    },
    {
      "cell_type": "code",
      "source": [
        "for elemento in [1, 2, 3, 4, 5, 6]:\n",
        "  print('Estamos no elemento', elemento)"
      ],
      "metadata": {
        "colab": {
          "base_uri": "https://localhost:8080/"
        },
        "id": "KMzWaTREPaE5",
        "outputId": "c2e4491d-9c5e-4f36-ff58-3eb0c81040e5"
      },
      "execution_count": 3,
      "outputs": [
        {
          "output_type": "stream",
          "name": "stdout",
          "text": [
            "Estamos no elemento 1\n",
            "Estamos no elemento 2\n",
            "Estamos no elemento 3\n",
            "Estamos no elemento 4\n",
            "Estamos no elemento 5\n",
            "Estamos no elemento 6\n"
          ]
        }
      ]
    },
    {
      "cell_type": "code",
      "source": [
        "for elemento in 'STRING':\n",
        "  print('Estamos no elemento', elemento)"
      ],
      "metadata": {
        "colab": {
          "base_uri": "https://localhost:8080/"
        },
        "id": "XEfCXDraQFvb",
        "outputId": "8e1d144d-0bbf-4fbf-ec54-81e4b3f46fea"
      },
      "execution_count": 4,
      "outputs": [
        {
          "output_type": "stream",
          "name": "stdout",
          "text": [
            "Estamos no elemento S\n",
            "Estamos no elemento T\n",
            "Estamos no elemento R\n",
            "Estamos no elemento I\n",
            "Estamos no elemento N\n",
            "Estamos no elemento G\n"
          ]
        }
      ]
    },
    {
      "cell_type": "code",
      "source": [
        "for elemento in range(len('string')):\n",
        "  print('estamos no elemento', elemento)"
      ],
      "metadata": {
        "colab": {
          "base_uri": "https://localhost:8080/"
        },
        "id": "6u6r3IQfQZVX",
        "outputId": "5fee0851-eddf-406a-8036-40cfd4433554"
      },
      "execution_count": 5,
      "outputs": [
        {
          "output_type": "stream",
          "name": "stdout",
          "text": [
            "estamos no elemento 0\n",
            "estamos no elemento 1\n",
            "estamos no elemento 2\n",
            "estamos no elemento 3\n",
            "estamos no elemento 4\n",
            "estamos no elemento 5\n"
          ]
        }
      ]
    },
    {
      "cell_type": "code",
      "source": [
        "produto = 0\n",
        "while produto < 4:\n",
        "  p = str(input('Digite o nome do produto:'))\n",
        "  v = float(input('Digite o valor do produto:'))\n",
        "  produto += 1"
      ],
      "metadata": {
        "colab": {
          "base_uri": "https://localhost:8080/"
        },
        "id": "LNSk2k1SRzh7",
        "outputId": "91d667a3-3003-4625-fb7c-121c0e8f8def"
      },
      "execution_count": 11,
      "outputs": [
        {
          "name": "stdout",
          "output_type": "stream",
          "text": [
            "Digite o nome do produto:a\n",
            "Digite o valor do produto:1\n",
            "Digite o nome do produto:b\n",
            "Digite o valor do produto:2\n",
            "Digite o nome do produto:c\n",
            "Digite o valor do produto:3\n",
            "Digite o nome do produto:d\n",
            "Digite o valor do produto:4\n"
          ]
        }
      ]
    },
    {
      "cell_type": "code",
      "source": [
        "elemento = 0\n",
        "while elemento <= len([1, 2, 3, 4, 5, 6]):\n",
        "  print('Estamos no elemento', elemento)\n",
        "  elemento +=1"
      ],
      "metadata": {
        "colab": {
          "base_uri": "https://localhost:8080/"
        },
        "id": "B_3yl2bETaeN",
        "outputId": "6fb64f60-88a9-497e-9298-b17bd8f4542a"
      },
      "execution_count": 15,
      "outputs": [
        {
          "output_type": "stream",
          "name": "stdout",
          "text": [
            "Estamos no elemento 0\n",
            "Estamos no elemento 1\n",
            "Estamos no elemento 2\n",
            "Estamos no elemento 3\n",
            "Estamos no elemento 4\n",
            "Estamos no elemento 5\n",
            "Estamos no elemento 6\n"
          ]
        }
      ]
    },
    {
      "cell_type": "code",
      "source": [
        "s= 'string'\n",
        "indice = 0\n",
        "while indice in range (len(s)):\n",
        "  print('Estamos no elemento', s[indice])\n",
        "  indice +=1"
      ],
      "metadata": {
        "colab": {
          "base_uri": "https://localhost:8080/"
        },
        "id": "v2xgqgj1Ud82",
        "outputId": "eff2bfcf-3f4f-4dad-96f2-2c3ef272d90b"
      },
      "execution_count": 17,
      "outputs": [
        {
          "output_type": "stream",
          "name": "stdout",
          "text": [
            "Estamos no elemento s\n",
            "Estamos no elemento t\n",
            "Estamos no elemento r\n",
            "Estamos no elemento i\n",
            "Estamos no elemento n\n",
            "Estamos no elemento g\n"
          ]
        }
      ]
    },
    {
      "cell_type": "code",
      "source": [
        "palavra= \"tranquilo\"\n",
        "for indice, letra in enumerate(palavra):\n",
        "  print(indice, letra)"
      ],
      "metadata": {
        "colab": {
          "base_uri": "https://localhost:8080/"
        },
        "id": "YEY8q-rHWP9k",
        "outputId": "ed5bcf09-2583-42af-d693-0a88f88c6899"
      },
      "execution_count": 24,
      "outputs": [
        {
          "output_type": "stream",
          "name": "stdout",
          "text": [
            "0 t\n",
            "1 r\n",
            "2 a\n",
            "3 n\n",
            "4 q\n",
            "5 u\n",
            "6 i\n",
            "7 l\n",
            "8 o\n"
          ]
        }
      ]
    },
    {
      "cell_type": "code",
      "source": [
        "lista=['eat', 'sleep', 'repeat']\n",
        "palavra='geek'\n",
        "objeto1= enumerate(lista)\n",
        "objeto2= enumerate(palavra)\n",
        "print(\"tipo:\", type(objeto1))\n",
        "print(list(enumerate(lista)))\n",
        "print(\"tipo:\", type(objeto2))\n",
        "print(list(enumerate(palavra)))"
      ],
      "metadata": {
        "colab": {
          "base_uri": "https://localhost:8080/"
        },
        "id": "__1fiEk7XWNH",
        "outputId": "837e0925-7049-4157-b609-309fe5fcead8"
      },
      "execution_count": 36,
      "outputs": [
        {
          "output_type": "stream",
          "name": "stdout",
          "text": [
            "tipo: <class 'enumerate'>\n",
            "[(0, 'eat'), (1, 'sleep'), (2, 'repeat')]\n",
            "tipo: <class 'enumerate'>\n",
            "[(0, 'g'), (1, 'e'), (2, 'e'), (3, 'k')]\n"
          ]
        }
      ]
    },
    {
      "cell_type": "code",
      "source": [
        "#quantas vezes a palavra oi é impressa pelos seguintes comandos?\n",
        "s = 'viva o python'\n",
        "for ch in s:\n",
        "  print('oi')"
      ],
      "metadata": {
        "colab": {
          "base_uri": "https://localhost:8080/"
        },
        "id": "I51qBCfPZQoR",
        "outputId": "4171485a-021c-4a7c-c053-472f0bccc549"
      },
      "execution_count": 37,
      "outputs": [
        {
          "output_type": "stream",
          "name": "stdout",
          "text": [
            "oi\n",
            "oi\n",
            "oi\n",
            "oi\n",
            "oi\n",
            "oi\n",
            "oi\n",
            "oi\n",
            "oi\n",
            "oi\n",
            "oi\n",
            "oi\n",
            "oi\n"
          ]
        }
      ]
    },
    {
      "cell_type": "code",
      "source": [
        "s = 'viva o python'\n",
        "for ch in s[3:8]:\n",
        "  print('oi')"
      ],
      "metadata": {
        "colab": {
          "base_uri": "https://localhost:8080/"
        },
        "id": "ULjiEAS4Z2D7",
        "outputId": "05e2229b-8ecf-44ed-cab9-b20d212c0590"
      },
      "execution_count": 38,
      "outputs": [
        {
          "output_type": "stream",
          "name": "stdout",
          "text": [
            "oi\n",
            "oi\n",
            "oi\n",
            "oi\n",
            "oi\n"
          ]
        }
      ]
    },
    {
      "cell_type": "code",
      "source": [
        "#1 parte\n",
        "par = 0\n",
        "impar = 0\n",
        "for número in range(0, 10):\n",
        "  numero= int(input('Digite um número inteiro'))\n",
        "  if (numero%2 == 0):\n",
        "    par +=1\n",
        "  else:\n",
        "    impar +=1\n",
        "print(\"numeros impar:\", impar)\n",
        "print(\"numeros pares:\", par)"
      ],
      "metadata": {
        "colab": {
          "base_uri": "https://localhost:8080/"
        },
        "id": "fmSXcB2abIP1",
        "outputId": "b7735f3b-f23f-43be-de73-3102b4d3009d"
      },
      "execution_count": 68,
      "outputs": [
        {
          "output_type": "stream",
          "name": "stdout",
          "text": [
            "Digite um número inteiro1\n",
            "Digite um número inteiro2\n",
            "Digite um número inteiro3\n",
            "Digite um número inteiro4\n",
            "Digite um número inteiro5\n",
            "Digite um número inteiro5\n",
            "Digite um número inteiro6\n",
            "Digite um número inteiro7\n",
            "Digite um número inteiro8\n",
            "Digite um número inteiro9\n",
            "numeros impar: 6\n",
            "numeros pares: 4\n"
          ]
        }
      ]
    }
  ]
}